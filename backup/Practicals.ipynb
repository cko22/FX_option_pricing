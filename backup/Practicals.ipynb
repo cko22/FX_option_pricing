{
 "cells": [
  {
   "cell_type": "code",
   "execution_count": 76,
   "id": "164ff8f4",
   "metadata": {
    "ExecuteTime": {
     "end_time": "2022-03-05T15:22:54.010949Z",
     "start_time": "2022-03-05T15:22:53.964783Z"
    }
   },
   "outputs": [],
   "source": [
    "import numpy as np\n",
    "import pandas as pd\n",
    "import matplotlib.pyplot as plt\n",
    "import sympy\n",
    "from scipy.stats import norm\n",
    "\n",
    "class color:\n",
    "    PURPLE = '\\033[95m'\n",
    "    CYAN = '\\033[96m'\n",
    "    DARKCYAN = '\\033[36m'\n",
    "    BLUE = '\\033[94m'\n",
    "    GREEN = '\\033[92m'\n",
    "    YELLOW = '\\033[93m'\n",
    "    RED = '\\033[91m'\n",
    "    BOLD = '\\033[1m'\n",
    "    ITALICS = '\\033[10m'\n",
    "    UNDERLINE = '\\033[4m'\n",
    "    END = '\\033[0m'"
   ]
  },
  {
   "cell_type": "markdown",
   "id": "8a0dffef",
   "metadata": {},
   "source": [
    "# Practical B: Building a Numerical Integration Option Pricer\n",
    "\n",
    "### Set Up the Future Spots\n",
    "Inputs:\n",
    "- Spot ($S$)\n",
    "- Interest rates ($rCCY1$ and $rCCY2$)\n",
    "- Time to expiry ($T$)\n",
    "- Volatility ($\\sigma$)\n",
    "\n",
    "Within log-normal world:\n",
    "\\begin{align*}\n",
    "\\mathop{\\mathbb{E}}(\\text{return}) &= \\big(rCCY2 - rCCY1 - \\frac{\\sigma^2}{2} \\big) T \\\\\n",
    "std(\\text{return}) &= \\sigma \\sqrt{T}\n",
    "\\end{align*}\n",
    "\n",
    "For a given return of X standard deviations:\n",
    "\\begin{align*}\n",
    "\\text{Return Level} &= \\mu + X ~std \\\\\n",
    "\\text{Spot Level} &= S e^{\\text{Return Level}} \\\\\n",
    "\\end{align*}\n",
    "\n",
    "### Set Up Option Payoff\n",
    "Some common payoffs:\n",
    "- Long forward: $S_T - K$\n",
    "- Short forward: $K - S_T$\n",
    "- Vanilla call option: $\\max(S_T - K, 0)$\n",
    "- Vanilla put option: $\\max(K - S_T, 0)$"
   ]
  },
  {
   "cell_type": "code",
   "execution_count": 71,
   "id": "b2db8913",
   "metadata": {
    "ExecuteTime": {
     "end_time": "2022-03-02T08:30:37.154171Z",
     "start_time": "2022-03-02T08:30:36.890609Z"
    }
   },
   "outputs": [
    {
     "data": {
      "image/png": "[encoded data removed]",
      "text/plain": [
       "<Figure size 600x400 with 1 Axes>"
      ]
     },
     "metadata": {
      "needs_background": "light"
     },
     "output_type": "display_data"
    },
    {
     "name": "stdout",
     "output_type": "stream",
     "text": [
      "       X  Return Level  Spot Level  Cumulative Prob.  Prob. Density  \\\n",
      "0   -5.0       -0.4035      0.8924               0.0            0.0   \n",
      "1   -4.9       -0.3955      0.8996               0.0            0.0   \n",
      "2   -4.8       -0.3875      0.9068               0.0            0.0   \n",
      "3   -4.7       -0.3795      0.9141               0.0            0.0   \n",
      "4   -4.6       -0.3715      0.9214               0.0            0.0   \n",
      "..   ...           ...         ...               ...            ...   \n",
      "96   4.6        0.3645      1.9236               1.0            0.0   \n",
      "97   4.7        0.3725      1.9390               1.0            0.0   \n",
      "98   4.8        0.3805      1.9546               1.0            0.0   \n",
      "99   4.9        0.3885      1.9703               1.0            0.0   \n",
      "100  5.0        0.3965      1.9861               1.0            0.0   \n",
      "\n",
      "     Option Payoff (CCY2 pips)  Weighted Option Payoff (CCY2 pips)  \n",
      "0                       0.0000                                 0.0  \n",
      "1                       0.0000                                 0.0  \n",
      "2                       0.0000                                 0.0  \n",
      "3                       0.0000                                 0.0  \n",
      "4                       0.0000                                 0.0  \n",
      "..                         ...                                 ...  \n",
      "96                      0.5636                                 0.0  \n",
      "97                      0.5790                                 0.0  \n",
      "98                      0.5946                                 0.0  \n",
      "99                      0.6103                                 0.0  \n",
      "100                     0.6261                                 NaN  \n",
      "\n",
      "[101 rows x 7 columns]\n",
      "*************************************\n",
      "                                         Contract 1\n",
      "Spot                                         1.3360\n",
      "Time to Maturity (years)                     1.0000\n",
      "CCY1 Interest Rate                           0.0005\n",
      "CCY2 Interest Rate                           0.0002\n",
      "Volatility                                   0.0800\n",
      "Expected Return                             -0.0035\n",
      "Standard Deviation                           0.0800\n",
      "Strike                                       1.3600\n",
      "Future Valued Option Value (CCY2 pips)       0.0368\n",
      "Present Valued Option Value (CCY2 pips)      0.0368\n",
      "Present Valued Option Value (CCY1 %)         2.7519\n"
     ]
    }
   ],
   "source": [
    "naming = {\"spot\": \"Spot\", \"T\": \"Time to Maturity (years)\", \"rCCY1\": \"CCY1 Interest Rate\", \n",
    "          \"rCCY2\": \"CCY2 Interest Rate\", \"sigma\":\"Volatility\",\"expected_return\": \"Expected Return\",\n",
    "            \"std\": \"Standard Deviation\", \"x\":\"X\", \"return_level\": \"Return Level\", \"spot_level\":\"Spot Level\"}\n",
    "\n",
    "### Set up the future spots\n",
    "# Market Data Inputs\n",
    "spot = 1.3360\n",
    "T = 1\n",
    "rCCY1 = 0.05/100\n",
    "rCCY2 = 0.02/100\n",
    "sigma = 8/100\n",
    "market_data = {\"spot\": spot, \"T\": T, \"rCCY1\": rCCY1, \"rCCY2\": rCCY2, \"sigma\": sigma}\n",
    "df_market = pd.DataFrame.from_dict(market_data, orient='index', columns = [\"Contract 1\"])\n",
    "df_market = df_market.rename(naming)\n",
    "\n",
    "# Calculated values\n",
    "expected_return = (rCCY2 - rCCY1 - sigma**2/2)*T\n",
    "std = sigma*np.sqrt(T)\n",
    "calculated_values = {\"expected_return\": expected_return, \"std\": std}\n",
    "df_calculated = pd.DataFrame.from_dict(calculated_values, orient = \"index\", columns = [\"Contract 1\"])\n",
    "df_calculated = df_calculated.rename(naming)\n",
    "# Combine output\n",
    "df_output = pd.concat([df_market, df_calculated], axis = 0)\n",
    "\n",
    "\n",
    "# Generate terminal spot levels\n",
    "x = np.arange(-5, 5.1, 0.1)\n",
    "return_level = expected_return + x*std\n",
    "spot_level = spot * np.exp(return_level)\n",
    "future_values = {\"x\": x, \"return_level\" : return_level, \"spot_level\" : spot_level}\n",
    "df_future_spot = pd.DataFrame.from_dict(future_values, orient = \"columns\")\n",
    "df_future_spot = df_future_spot.rename(columns = naming)\n",
    "\n",
    "### Calculate probability density of terminal spot levels\n",
    "cum_prob = norm.cdf(x)\n",
    "df_prob = pd.DataFrame(cum_prob, columns = [\"Cumulative Prob.\"])\n",
    "df_prob[\"Prob. Density\"] = df_prob[\"Cumulative Prob.\"].diff()\n",
    "df_prob[\"Prob. Density\"] = df_prob[\"Prob. Density\"].fillna(0)\n",
    "df_output2 = pd.concat([df_future_spot, df_prob], axis = 1)\n",
    "\n",
    "\n",
    "### Plot pdf of terminal spot values\n",
    "fig, ax = plt.subplots(1,1, dpi = 100)\n",
    "ax.plot(df_output2[\"Spot Level\"], df_output2[\"Prob. Density\"])\n",
    "ax.grid()\n",
    "plt.show()\n",
    "\n",
    "\n",
    "\n",
    "def payoff(S, K, contract):\n",
    "    if contract == \"call\":\n",
    "        return max(S - K, 0)\n",
    "    elif contract == \"put\":\n",
    "        return max(K - S, 0)\n",
    "    elif contract == \"long_forward\":\n",
    "        return S - K\n",
    "    elif contract == \"short_forward\":\n",
    "        return K - S\n",
    "\n",
    "### Calculate option payoff\n",
    "# strike = spot * np.exp((rCCY2 - rCCY1)*T)\n",
    "strike = 1.3600\n",
    "df_output2[\"Option Payoff (CCY2 pips)\"] = df_output2[\"Spot Level\"].apply(payoff, args = (strike, \"call\"))\n",
    "df_output2[\"Weighted Option Payoff (CCY2 pips)\"] = (df_output2[\"Option Payoff (CCY2 pips)\"] + df_output2[\"Option Payoff (CCY2 pips)\"].shift(-1))/2 * df_output2[\"Prob. Density\"] \n",
    "\n",
    "\n",
    "print(df_output2.round(4))\n",
    "print(\"*************************************\")\n",
    "\n",
    "\n",
    "### Tabulate all data\n",
    "df_output.loc[\"Strike\"] = strike\n",
    "df_output.loc[\"Future Valued Option Value (CCY2 pips)\"] = df_output2[\"Weighted Option Payoff (CCY2 pips)\"].sum()\n",
    "df_output.loc[\"Present Valued Option Value (CCY2 pips)\"] = df_output.loc[\"Future Valued Option Value (CCY2 pips)\"]*np.exp(-rCCY2 * T) \n",
    "df_output.loc[\"Present Valued Option Value (CCY1 %)\"] = df_output.loc[\"Present Valued Option Value (CCY2 pips)\"]/spot * 100\n",
    "\n",
    "print(df_output.round(4))\n"
   ]
  },
  {
   "cell_type": "markdown",
   "id": "a9c54155",
   "metadata": {},
   "source": [
    "# Practical C: Building a Black-Scholes Option Pricer"
   ]
  },
  {
   "cell_type": "code",
   "execution_count": 79,
   "id": "8807c48f",
   "metadata": {
    "ExecuteTime": {
     "end_time": "2022-03-05T15:25:34.958474Z",
     "start_time": "2022-03-05T15:25:34.895932Z"
    }
   },
   "outputs": [
    {
     "data": {
      "text/plain": [
       "1e-06"
      ]
     },
     "execution_count": 79,
     "metadata": {},
     "output_type": "execute_result"
    }
   ],
   "source": [
    "1e-6"
   ]
  },
  {
   "cell_type": "code",
   "execution_count": 80,
   "id": "1748d266",
   "metadata": {
    "ExecuteTime": {
     "end_time": "2022-03-05T15:25:42.653602Z",
     "start_time": "2022-03-05T15:25:42.625415Z"
    }
   },
   "outputs": [],
   "source": [
    "def FX_Forward(S: float, rCCY1: float, rCCY2: float, T: float):\n",
    "    return float(\"{:.4f}\".format(S*np.exp((rCCY2 - rCCY1)*T)))\n",
    "\n",
    "def delta(S: float, rCCY1: float, rCCY2: float, T: float, K: float, sigma: float):\n",
    "    d1 = (np.log(S/K) + (rCCY2 - rCCY1 + sigma**2/2)*T)/(sigma*np.sqrt(T))\n",
    "    return np.exp(-rCCY1*T)*norm.cdf(d1)\n",
    "\n",
    "def FX_Vanilla(S: float, rCCY1: float, rCCY2: float, T: float, Notional_CCY1: float, K: float, sigma: float):\n",
    "    d1 = (np.log(S/K) + (rCCY2 - rCCY1 + sigma**2/2)*T)/(sigma*np.sqrt(T))\n",
    "    d2 = d1 - sigma*np.sqrt(T)\n",
    "    \n",
    "    forward = FX_Forward(S = S, rCCY1 = rCCY1, rCCY2 = rCCY2, T = T)\n",
    "    ### premium prices are in CCY2 per CCY1 (CCY2 pips) terms\n",
    "    call_CCY2_pips = S*np.exp(-rCCY1*T)*norm.cdf(d1) - K*np.exp(-rCCY2*T)*norm.cdf(d2)\n",
    "    put_CCY2_pips = K*np.exp(-rCCY2*T)*norm.cdf(-d2) - S*np.exp(-rCCY1*T)*norm.cdf(-d1)\n",
    "    \n",
    "    ### add in option notional and convert to CCY1 payoff\n",
    "    Notional_CCY1 = Notional_CCY1*1e6\n",
    "    # CCY2 cash\n",
    "    call_CCY2_cash = Notional_CCY1*call_CCY2_pips\n",
    "    put_CCY2_cash = Notional_CCY1*put_CCY2_pips\n",
    "    # CCY1 \n",
    "    call_CCY1_pct = call_CCY2_pips/S\n",
    "    put_CCY1_pct = put_CCY2_pips/S\n",
    "    call_CCY1_cash = Notional_CCY1*call_CCY1_pct\n",
    "    put_CCY1_cash = Notional_CCY1*put_CCY1_pct\n",
    "    \n",
    "    print(color.BOLD + \"Inputs\" + color.END)\n",
    "    print(\"Spot                              = {:.4f}\".format(S))\n",
    "    print(\"CCY1 Interest Rate                = {:.2f}%\".format(rCCY1*100))\n",
    "    print(\"CCY2 Interest Rate                = {:.2f}%\".format(rCCY2*100))\n",
    "    print(\"Time to Maturity (years)          = {:.2f}\".format(T)) \n",
    "    print(\"Notional (CCY1)                   = {:,.0f}\".format(Notional_CCY1)) \n",
    "    print(\"Strike                            = {:.4f}\".format(K))\n",
    "    print(\"Implied Volatility                = {:.2f}%\".format(sigma*100))\n",
    "    print(\"\\n############################################## \\n\")\n",
    "    print(color.BOLD + \"Outputs\" + color.END)\n",
    "    print(\"Forward                           = {:.4f}\".format(forward))\n",
    "    print(\"-----------------CCY2 Terms----------------\")\n",
    "    print(\"European Vanilla Call (CCY2 pips) = {:.4f}\".format(call_CCY2_pips)) \n",
    "    print(\"European Vanilla Put (CCY2 pips)  = {:.4f}\".format(put_CCY2_pips)) \n",
    "    print(\"European Vanilla Call (CCY2 cash) = {:,.0f}\".format(call_CCY2_cash)) \n",
    "    print(\"European Vanilla Put (CCY2 cash)  = {:,.0f}\".format(put_CCY2_cash)) \n",
    "    print(\"-----------------CCY1 Terms----------------\")\n",
    "    print(\"European Vanilla Call (CCY1 %)    = {:.2f}%\".format(call_CCY1_pct*100)) \n",
    "    print(\"European Vanilla Put (CCY1 %)     = {:.2f}%\".format(put_CCY1_pct*100)) \n",
    "    print(\"European Vanilla Call (CCY1 cash) = {:,.0f}\".format(call_CCY1_cash)) \n",
    "    print(\"European Vanilla Put (CCY1 cash)  = {:,.0f}\".format(put_CCY1_cash)) \n",
    "    print(\"------------Put-Call Parity Check----------\")\n",
    "    print(\"Call less Put                     = {:.6f}\".format(call_CCY2_pips - put_CCY2_pips)) \n",
    "    print(\"Forward less Strike               = {:.6f}\".format(np.exp(-rCCY2*T)*(forward - K) ))\n",
    "    print(\"--------------First-order Greeks-----------\")\n",
    "    print(\"Call Delta (CCY1 %)               = {:.6f}%\".format(np.exp(-rCCY1*T)*norm.cdf(d1)*100)) \n",
    "    print(\"Put Delta (CCY1 %)                = {:.6f}%\".format(np.exp(-rCCY1*T)*(norm.cdf(d1)-1)*100))\n",
    "    print(\"Option Vega (CCY1 %)              = {:.6f}%\".format(S*np.exp(-rCCY1*T)*norm.pdf(d1)*np.sqrt(T))) \n",
    "    "
   ]
  },
  {
   "cell_type": "code",
   "execution_count": 82,
   "id": "6512dbe6",
   "metadata": {
    "ExecuteTime": {
     "end_time": "2022-03-05T15:26:18.110508Z",
     "start_time": "2022-03-05T15:26:18.092568Z"
    }
   },
   "outputs": [
    {
     "name": "stdout",
     "output_type": "stream",
     "text": [
      "\u001b[1mInputs\u001b[0m\n",
      "Spot                              = 1.3650\n",
      "CCY1 Interest Rate                = 1.00%\n",
      "CCY2 Interest Rate                = 2.00%\n",
      "Time to Maturity (years)          = 1.00\n",
      "Notional (CCY1)                   = 10,000,000\n",
      "Strike                            = 1.3787\n",
      "Implied Volatility                = 10.00%\n",
      "\n",
      "############################################## \n",
      "\n",
      "\u001b[1mOutputs\u001b[0m\n",
      "Forward                           = 1.3787\n",
      "-----------------CCY2 Terms----------------\n",
      "European Vanilla Call (CCY2 pips) = 0.0539\n",
      "European Vanilla Put (CCY2 pips)  = 0.0539\n",
      "European Vanilla Call (CCY2 cash) = 539,000\n",
      "European Vanilla Put (CCY2 cash)  = 538,819\n",
      "-----------------CCY1 Terms----------------\n",
      "European Vanilla Call (CCY1 %)    = 3.95%\n",
      "European Vanilla Put (CCY1 %)     = 3.95%\n",
      "European Vanilla Call (CCY1 cash) = 394,872\n",
      "European Vanilla Put (CCY1 cash)  = 394,739\n",
      "------------Put-Call Parity Check----------\n",
      "Call less Put                     = 0.000018\n",
      "Forward less Strike               = 0.000000\n",
      "--------------First-order Greeks-----------\n",
      "Call Delta (CCY1 %)               = 51.481820%\n",
      "Put Delta (CCY1 %)                = -47.523164%\n",
      "Option Vega (CCY1 %)              = 0.538461%\n"
     ]
    }
   ],
   "source": [
    "FX_Vanilla(S = 1.3650, \n",
    "           rCCY1 = 1/100, \n",
    "           rCCY2 = 2/100, \n",
    "           T = 1, \n",
    "           Notional_CCY1 = 10, \n",
    "           K = 1.3787, \n",
    "           sigma = 10/100)"
   ]
  },
  {
   "cell_type": "code",
   "execution_count": 85,
   "id": "34a02238",
   "metadata": {
    "ExecuteTime": {
     "end_time": "2022-03-08T09:44:31.905545Z",
     "start_time": "2022-03-08T09:44:31.858672Z"
    }
   },
   "outputs": [
    {
     "data": {
      "text/plain": [
       "1.336"
      ]
     },
     "execution_count": 85,
     "metadata": {},
     "output_type": "execute_result"
    }
   ],
   "source": [
    "df_output[\"Contract 1\"].iloc[0]"
   ]
  },
  {
   "cell_type": "code",
   "execution_count": null,
   "id": "244b2d32",
   "metadata": {},
   "outputs": [],
   "source": []
  }
 ],
 "metadata": {
  "hide_input": false,
  "kernelspec": {
   "display_name": "Python 3 (ipykernel)",
   "language": "python",
   "name": "python3"
  },
  "language_info": {
   "codemirror_mode": {
    "name": "ipython",
    "version": 3
   },
   "file_extension": ".py",
   "mimetype": "text/x-python",
   "name": "python",
   "nbconvert_exporter": "python",
   "pygments_lexer": "ipython3",
   "version": "3.9.7"
  },
  "latex_envs": {
   "LaTeX_envs_menu_present": true,
   "autoclose": false,
   "autocomplete": true,
   "bibliofile": "biblio.bib",
   "cite_by": "apalike",
   "current_citInitial": 1,
   "eqLabelWithNumbers": true,
   "eqNumInitial": 1,
   "hotkeys": {
    "equation": "Ctrl-E",
    "itemize": "Ctrl-I"
   },
   "labels_anchors": false,
   "latex_user_defs": false,
   "report_style_numbering": false,
   "user_envs_cfg": false
  },
  "varInspector": {
   "cols": {
    "lenName": 16,
    "lenType": 16,
    "lenVar": 40
   },
   "kernels_config": {
    "python": {
     "delete_cmd_postfix": "",
     "delete_cmd_prefix": "del ",
     "library": "var_list.py",
     "varRefreshCmd": "print(var_dic_list())"
    },
    "r": {
     "delete_cmd_postfix": ") ",
     "delete_cmd_prefix": "rm(",
     "library": "var_list.r",
     "varRefreshCmd": "cat(var_dic_list()) "
    }
   },
   "types_to_exclude": [
    "module",
    "function",
    "builtin_function_or_method",
    "instance",
    "_Feature"
   ],
   "window_display": false
  }
 },
 "nbformat": 4,
 "nbformat_minor": 5
}
